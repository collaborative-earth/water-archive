{
 "cells": [
  {
   "cell_type": "code",
   "execution_count": 1,
   "id": "ef736cbd",
   "metadata": {},
   "outputs": [
    {
     "data": {
      "text/html": [
       "\n",
       "    <div class=\"bk-root\">\n",
       "        <a href=\"https://bokeh.org\" target=\"_blank\" class=\"bk-logo bk-logo-small bk-logo-notebook\"></a>\n",
       "        <span id=\"1001\">Loading BokehJS ...</span>\n",
       "    </div>"
      ]
     },
     "metadata": {},
     "output_type": "display_data"
    },
    {
     "data": {
      "application/javascript": [
       "\n",
       "(function(root) {\n",
       "  function now() {\n",
       "    return new Date();\n",
       "  }\n",
       "\n",
       "  var force = true;\n",
       "\n",
       "  if (typeof root._bokeh_onload_callbacks === \"undefined\" || force === true) {\n",
       "    root._bokeh_onload_callbacks = [];\n",
       "    root._bokeh_is_loading = undefined;\n",
       "  }\n",
       "\n",
       "  var JS_MIME_TYPE = 'application/javascript';\n",
       "  var HTML_MIME_TYPE = 'text/html';\n",
       "  var EXEC_MIME_TYPE = 'application/vnd.bokehjs_exec.v0+json';\n",
       "  var CLASS_NAME = 'output_bokeh rendered_html';\n",
       "\n",
       "  /**\n",
       "   * Render data to the DOM node\n",
       "   */\n",
       "  function render(props, node) {\n",
       "    var script = document.createElement(\"script\");\n",
       "    node.appendChild(script);\n",
       "  }\n",
       "\n",
       "  /**\n",
       "   * Handle when an output is cleared or removed\n",
       "   */\n",
       "  function handleClearOutput(event, handle) {\n",
       "    var cell = handle.cell;\n",
       "\n",
       "    var id = cell.output_area._bokeh_element_id;\n",
       "    var server_id = cell.output_area._bokeh_server_id;\n",
       "    // Clean up Bokeh references\n",
       "    if (id != null && id in Bokeh.index) {\n",
       "      Bokeh.index[id].model.document.clear();\n",
       "      delete Bokeh.index[id];\n",
       "    }\n",
       "\n",
       "    if (server_id !== undefined) {\n",
       "      // Clean up Bokeh references\n",
       "      var cmd = \"from bokeh.io.state import curstate; print(curstate().uuid_to_server['\" + server_id + \"'].get_sessions()[0].document.roots[0]._id)\";\n",
       "      cell.notebook.kernel.execute(cmd, {\n",
       "        iopub: {\n",
       "          output: function(msg) {\n",
       "            var id = msg.content.text.trim();\n",
       "            if (id in Bokeh.index) {\n",
       "              Bokeh.index[id].model.document.clear();\n",
       "              delete Bokeh.index[id];\n",
       "            }\n",
       "          }\n",
       "        }\n",
       "      });\n",
       "      // Destroy server and session\n",
       "      var cmd = \"import bokeh.io.notebook as ion; ion.destroy_server('\" + server_id + \"')\";\n",
       "      cell.notebook.kernel.execute(cmd);\n",
       "    }\n",
       "  }\n",
       "\n",
       "  /**\n",
       "   * Handle when a new output is added\n",
       "   */\n",
       "  function handleAddOutput(event, handle) {\n",
       "    var output_area = handle.output_area;\n",
       "    var output = handle.output;\n",
       "\n",
       "    // limit handleAddOutput to display_data with EXEC_MIME_TYPE content only\n",
       "    if ((output.output_type != \"display_data\") || (!output.data.hasOwnProperty(EXEC_MIME_TYPE))) {\n",
       "      return\n",
       "    }\n",
       "\n",
       "    var toinsert = output_area.element.find(\".\" + CLASS_NAME.split(' ')[0]);\n",
       "\n",
       "    if (output.metadata[EXEC_MIME_TYPE][\"id\"] !== undefined) {\n",
       "      toinsert[toinsert.length - 1].firstChild.textContent = output.data[JS_MIME_TYPE];\n",
       "      // store reference to embed id on output_area\n",
       "      output_area._bokeh_element_id = output.metadata[EXEC_MIME_TYPE][\"id\"];\n",
       "    }\n",
       "    if (output.metadata[EXEC_MIME_TYPE][\"server_id\"] !== undefined) {\n",
       "      var bk_div = document.createElement(\"div\");\n",
       "      bk_div.innerHTML = output.data[HTML_MIME_TYPE];\n",
       "      var script_attrs = bk_div.children[0].attributes;\n",
       "      for (var i = 0; i < script_attrs.length; i++) {\n",
       "        toinsert[toinsert.length - 1].firstChild.setAttribute(script_attrs[i].name, script_attrs[i].value);\n",
       "        toinsert[toinsert.length - 1].firstChild.textContent = bk_div.children[0].textContent\n",
       "      }\n",
       "      // store reference to server id on output_area\n",
       "      output_area._bokeh_server_id = output.metadata[EXEC_MIME_TYPE][\"server_id\"];\n",
       "    }\n",
       "  }\n",
       "\n",
       "  function register_renderer(events, OutputArea) {\n",
       "\n",
       "    function append_mime(data, metadata, element) {\n",
       "      // create a DOM node to render to\n",
       "      var toinsert = this.create_output_subarea(\n",
       "        metadata,\n",
       "        CLASS_NAME,\n",
       "        EXEC_MIME_TYPE\n",
       "      );\n",
       "      this.keyboard_manager.register_events(toinsert);\n",
       "      // Render to node\n",
       "      var props = {data: data, metadata: metadata[EXEC_MIME_TYPE]};\n",
       "      render(props, toinsert[toinsert.length - 1]);\n",
       "      element.append(toinsert);\n",
       "      return toinsert\n",
       "    }\n",
       "\n",
       "    /* Handle when an output is cleared or removed */\n",
       "    events.on('clear_output.CodeCell', handleClearOutput);\n",
       "    events.on('delete.Cell', handleClearOutput);\n",
       "\n",
       "    /* Handle when a new output is added */\n",
       "    events.on('output_added.OutputArea', handleAddOutput);\n",
       "\n",
       "    /**\n",
       "     * Register the mime type and append_mime function with output_area\n",
       "     */\n",
       "    OutputArea.prototype.register_mime_type(EXEC_MIME_TYPE, append_mime, {\n",
       "      /* Is output safe? */\n",
       "      safe: true,\n",
       "      /* Index of renderer in `output_area.display_order` */\n",
       "      index: 0\n",
       "    });\n",
       "  }\n",
       "\n",
       "  // register the mime type if in Jupyter Notebook environment and previously unregistered\n",
       "  if (root.Jupyter !== undefined) {\n",
       "    var events = require('base/js/events');\n",
       "    var OutputArea = require('notebook/js/outputarea').OutputArea;\n",
       "\n",
       "    if (OutputArea.prototype.mime_types().indexOf(EXEC_MIME_TYPE) == -1) {\n",
       "      register_renderer(events, OutputArea);\n",
       "    }\n",
       "  }\n",
       "\n",
       "  \n",
       "  if (typeof (root._bokeh_timeout) === \"undefined\" || force === true) {\n",
       "    root._bokeh_timeout = Date.now() + 5000;\n",
       "    root._bokeh_failed_load = false;\n",
       "  }\n",
       "\n",
       "  var NB_LOAD_WARNING = {'data': {'text/html':\n",
       "     \"<div style='background-color: #fdd'>\\n\"+\n",
       "     \"<p>\\n\"+\n",
       "     \"BokehJS does not appear to have successfully loaded. If loading BokehJS from CDN, this \\n\"+\n",
       "     \"may be due to a slow or bad network connection. Possible fixes:\\n\"+\n",
       "     \"</p>\\n\"+\n",
       "     \"<ul>\\n\"+\n",
       "     \"<li>re-rerun `output_notebook()` to attempt to load from CDN again, or</li>\\n\"+\n",
       "     \"<li>use INLINE resources instead, as so:</li>\\n\"+\n",
       "     \"</ul>\\n\"+\n",
       "     \"<code>\\n\"+\n",
       "     \"from bokeh.resources import INLINE\\n\"+\n",
       "     \"output_notebook(resources=INLINE)\\n\"+\n",
       "     \"</code>\\n\"+\n",
       "     \"</div>\"}};\n",
       "\n",
       "  function display_loaded() {\n",
       "    var el = document.getElementById(\"1001\");\n",
       "    if (el != null) {\n",
       "      el.textContent = \"BokehJS is loading...\";\n",
       "    }\n",
       "    if (root.Bokeh !== undefined) {\n",
       "      if (el != null) {\n",
       "        el.textContent = \"BokehJS \" + root.Bokeh.version + \" successfully loaded.\";\n",
       "      }\n",
       "    } else if (Date.now() < root._bokeh_timeout) {\n",
       "      setTimeout(display_loaded, 100)\n",
       "    }\n",
       "  }\n",
       "\n",
       "\n",
       "  function run_callbacks() {\n",
       "    try {\n",
       "      root._bokeh_onload_callbacks.forEach(function(callback) {\n",
       "        if (callback != null)\n",
       "          callback();\n",
       "      });\n",
       "    } finally {\n",
       "      delete root._bokeh_onload_callbacks\n",
       "    }\n",
       "    console.debug(\"Bokeh: all callbacks have finished\");\n",
       "  }\n",
       "\n",
       "  function load_libs(css_urls, js_urls, callback) {\n",
       "    if (css_urls == null) css_urls = [];\n",
       "    if (js_urls == null) js_urls = [];\n",
       "\n",
       "    root._bokeh_onload_callbacks.push(callback);\n",
       "    if (root._bokeh_is_loading > 0) {\n",
       "      console.debug(\"Bokeh: BokehJS is being loaded, scheduling callback at\", now());\n",
       "      return null;\n",
       "    }\n",
       "    if (js_urls == null || js_urls.length === 0) {\n",
       "      run_callbacks();\n",
       "      return null;\n",
       "    }\n",
       "    console.debug(\"Bokeh: BokehJS not loaded, scheduling load and callback at\", now());\n",
       "    root._bokeh_is_loading = css_urls.length + js_urls.length;\n",
       "\n",
       "    function on_load() {\n",
       "      root._bokeh_is_loading--;\n",
       "      if (root._bokeh_is_loading === 0) {\n",
       "        console.debug(\"Bokeh: all BokehJS libraries/stylesheets loaded\");\n",
       "        run_callbacks()\n",
       "      }\n",
       "    }\n",
       "\n",
       "    function on_error() {\n",
       "      console.error(\"failed to load \" + url);\n",
       "    }\n",
       "\n",
       "    for (var i = 0; i < css_urls.length; i++) {\n",
       "      var url = css_urls[i];\n",
       "      const element = document.createElement(\"link\");\n",
       "      element.onload = on_load;\n",
       "      element.onerror = on_error;\n",
       "      element.rel = \"stylesheet\";\n",
       "      element.type = \"text/css\";\n",
       "      element.href = url;\n",
       "      console.debug(\"Bokeh: injecting link tag for BokehJS stylesheet: \", url);\n",
       "      document.body.appendChild(element);\n",
       "    }\n",
       "\n",
       "    const hashes = {\"https://cdn.bokeh.org/bokeh/release/bokeh-2.2.3.min.js\": \"T2yuo9Oe71Cz/I4X9Ac5+gpEa5a8PpJCDlqKYO0CfAuEszu1JrXLl8YugMqYe3sM\", \"https://cdn.bokeh.org/bokeh/release/bokeh-widgets-2.2.3.min.js\": \"98GDGJ0kOMCUMUePhksaQ/GYgB3+NH9h996V88sh3aOiUNX3N+fLXAtry6xctSZ6\", \"https://cdn.bokeh.org/bokeh/release/bokeh-tables-2.2.3.min.js\": \"89bArO+nlbP3sgakeHjCo1JYxYR5wufVgA3IbUvDY+K7w4zyxJqssu7wVnfeKCq8\"};\n",
       "\n",
       "    for (var i = 0; i < js_urls.length; i++) {\n",
       "      var url = js_urls[i];\n",
       "      var element = document.createElement('script');\n",
       "      element.onload = on_load;\n",
       "      element.onerror = on_error;\n",
       "      element.async = false;\n",
       "      element.src = url;\n",
       "      if (url in hashes) {\n",
       "        element.crossOrigin = \"anonymous\";\n",
       "        element.integrity = \"sha384-\" + hashes[url];\n",
       "      }\n",
       "      console.debug(\"Bokeh: injecting script tag for BokehJS library: \", url);\n",
       "      document.head.appendChild(element);\n",
       "    }\n",
       "  };\n",
       "\n",
       "  function inject_raw_css(css) {\n",
       "    const element = document.createElement(\"style\");\n",
       "    element.appendChild(document.createTextNode(css));\n",
       "    document.body.appendChild(element);\n",
       "  }\n",
       "\n",
       "  \n",
       "  var js_urls = [\"https://cdn.bokeh.org/bokeh/release/bokeh-2.2.3.min.js\", \"https://cdn.bokeh.org/bokeh/release/bokeh-widgets-2.2.3.min.js\", \"https://cdn.bokeh.org/bokeh/release/bokeh-tables-2.2.3.min.js\"];\n",
       "  var css_urls = [];\n",
       "  \n",
       "\n",
       "  var inline_js = [\n",
       "    function(Bokeh) {\n",
       "      Bokeh.set_log_level(\"info\");\n",
       "    },\n",
       "    function(Bokeh) {\n",
       "    \n",
       "    \n",
       "    }\n",
       "  ];\n",
       "\n",
       "  function run_inline_js() {\n",
       "    \n",
       "    if (root.Bokeh !== undefined || force === true) {\n",
       "      \n",
       "    for (var i = 0; i < inline_js.length; i++) {\n",
       "      inline_js[i].call(root, root.Bokeh);\n",
       "    }\n",
       "    if (force === true) {\n",
       "        display_loaded();\n",
       "      }} else if (Date.now() < root._bokeh_timeout) {\n",
       "      setTimeout(run_inline_js, 100);\n",
       "    } else if (!root._bokeh_failed_load) {\n",
       "      console.log(\"Bokeh: BokehJS failed to load within specified timeout.\");\n",
       "      root._bokeh_failed_load = true;\n",
       "    } else if (force !== true) {\n",
       "      var cell = $(document.getElementById(\"1001\")).parents('.cell').data().cell;\n",
       "      cell.output_area.append_execute_result(NB_LOAD_WARNING)\n",
       "    }\n",
       "\n",
       "  }\n",
       "\n",
       "  if (root._bokeh_is_loading === 0) {\n",
       "    console.debug(\"Bokeh: BokehJS loaded, going straight to plotting\");\n",
       "    run_inline_js();\n",
       "  } else {\n",
       "    load_libs(css_urls, js_urls, function() {\n",
       "      console.debug(\"Bokeh: BokehJS plotting callback run at\", now());\n",
       "      run_inline_js();\n",
       "    });\n",
       "  }\n",
       "}(window));"
      ],
      "application/vnd.bokehjs_load.v0+json": "\n(function(root) {\n  function now() {\n    return new Date();\n  }\n\n  var force = true;\n\n  if (typeof root._bokeh_onload_callbacks === \"undefined\" || force === true) {\n    root._bokeh_onload_callbacks = [];\n    root._bokeh_is_loading = undefined;\n  }\n\n  \n\n  \n  if (typeof (root._bokeh_timeout) === \"undefined\" || force === true) {\n    root._bokeh_timeout = Date.now() + 5000;\n    root._bokeh_failed_load = false;\n  }\n\n  var NB_LOAD_WARNING = {'data': {'text/html':\n     \"<div style='background-color: #fdd'>\\n\"+\n     \"<p>\\n\"+\n     \"BokehJS does not appear to have successfully loaded. If loading BokehJS from CDN, this \\n\"+\n     \"may be due to a slow or bad network connection. Possible fixes:\\n\"+\n     \"</p>\\n\"+\n     \"<ul>\\n\"+\n     \"<li>re-rerun `output_notebook()` to attempt to load from CDN again, or</li>\\n\"+\n     \"<li>use INLINE resources instead, as so:</li>\\n\"+\n     \"</ul>\\n\"+\n     \"<code>\\n\"+\n     \"from bokeh.resources import INLINE\\n\"+\n     \"output_notebook(resources=INLINE)\\n\"+\n     \"</code>\\n\"+\n     \"</div>\"}};\n\n  function display_loaded() {\n    var el = document.getElementById(\"1001\");\n    if (el != null) {\n      el.textContent = \"BokehJS is loading...\";\n    }\n    if (root.Bokeh !== undefined) {\n      if (el != null) {\n        el.textContent = \"BokehJS \" + root.Bokeh.version + \" successfully loaded.\";\n      }\n    } else if (Date.now() < root._bokeh_timeout) {\n      setTimeout(display_loaded, 100)\n    }\n  }\n\n\n  function run_callbacks() {\n    try {\n      root._bokeh_onload_callbacks.forEach(function(callback) {\n        if (callback != null)\n          callback();\n      });\n    } finally {\n      delete root._bokeh_onload_callbacks\n    }\n    console.debug(\"Bokeh: all callbacks have finished\");\n  }\n\n  function load_libs(css_urls, js_urls, callback) {\n    if (css_urls == null) css_urls = [];\n    if (js_urls == null) js_urls = [];\n\n    root._bokeh_onload_callbacks.push(callback);\n    if (root._bokeh_is_loading > 0) {\n      console.debug(\"Bokeh: BokehJS is being loaded, scheduling callback at\", now());\n      return null;\n    }\n    if (js_urls == null || js_urls.length === 0) {\n      run_callbacks();\n      return null;\n    }\n    console.debug(\"Bokeh: BokehJS not loaded, scheduling load and callback at\", now());\n    root._bokeh_is_loading = css_urls.length + js_urls.length;\n\n    function on_load() {\n      root._bokeh_is_loading--;\n      if (root._bokeh_is_loading === 0) {\n        console.debug(\"Bokeh: all BokehJS libraries/stylesheets loaded\");\n        run_callbacks()\n      }\n    }\n\n    function on_error() {\n      console.error(\"failed to load \" + url);\n    }\n\n    for (var i = 0; i < css_urls.length; i++) {\n      var url = css_urls[i];\n      const element = document.createElement(\"link\");\n      element.onload = on_load;\n      element.onerror = on_error;\n      element.rel = \"stylesheet\";\n      element.type = \"text/css\";\n      element.href = url;\n      console.debug(\"Bokeh: injecting link tag for BokehJS stylesheet: \", url);\n      document.body.appendChild(element);\n    }\n\n    const hashes = {\"https://cdn.bokeh.org/bokeh/release/bokeh-2.2.3.min.js\": \"T2yuo9Oe71Cz/I4X9Ac5+gpEa5a8PpJCDlqKYO0CfAuEszu1JrXLl8YugMqYe3sM\", \"https://cdn.bokeh.org/bokeh/release/bokeh-widgets-2.2.3.min.js\": \"98GDGJ0kOMCUMUePhksaQ/GYgB3+NH9h996V88sh3aOiUNX3N+fLXAtry6xctSZ6\", \"https://cdn.bokeh.org/bokeh/release/bokeh-tables-2.2.3.min.js\": \"89bArO+nlbP3sgakeHjCo1JYxYR5wufVgA3IbUvDY+K7w4zyxJqssu7wVnfeKCq8\"};\n\n    for (var i = 0; i < js_urls.length; i++) {\n      var url = js_urls[i];\n      var element = document.createElement('script');\n      element.onload = on_load;\n      element.onerror = on_error;\n      element.async = false;\n      element.src = url;\n      if (url in hashes) {\n        element.crossOrigin = \"anonymous\";\n        element.integrity = \"sha384-\" + hashes[url];\n      }\n      console.debug(\"Bokeh: injecting script tag for BokehJS library: \", url);\n      document.head.appendChild(element);\n    }\n  };\n\n  function inject_raw_css(css) {\n    const element = document.createElement(\"style\");\n    element.appendChild(document.createTextNode(css));\n    document.body.appendChild(element);\n  }\n\n  \n  var js_urls = [\"https://cdn.bokeh.org/bokeh/release/bokeh-2.2.3.min.js\", \"https://cdn.bokeh.org/bokeh/release/bokeh-widgets-2.2.3.min.js\", \"https://cdn.bokeh.org/bokeh/release/bokeh-tables-2.2.3.min.js\"];\n  var css_urls = [];\n  \n\n  var inline_js = [\n    function(Bokeh) {\n      Bokeh.set_log_level(\"info\");\n    },\n    function(Bokeh) {\n    \n    \n    }\n  ];\n\n  function run_inline_js() {\n    \n    if (root.Bokeh !== undefined || force === true) {\n      \n    for (var i = 0; i < inline_js.length; i++) {\n      inline_js[i].call(root, root.Bokeh);\n    }\n    if (force === true) {\n        display_loaded();\n      }} else if (Date.now() < root._bokeh_timeout) {\n      setTimeout(run_inline_js, 100);\n    } else if (!root._bokeh_failed_load) {\n      console.log(\"Bokeh: BokehJS failed to load within specified timeout.\");\n      root._bokeh_failed_load = true;\n    } else if (force !== true) {\n      var cell = $(document.getElementById(\"1001\")).parents('.cell').data().cell;\n      cell.output_area.append_execute_result(NB_LOAD_WARNING)\n    }\n\n  }\n\n  if (root._bokeh_is_loading === 0) {\n    console.debug(\"Bokeh: BokehJS loaded, going straight to plotting\");\n    run_inline_js();\n  } else {\n    load_libs(css_urls, js_urls, function() {\n      console.debug(\"Bokeh: BokehJS plotting callback run at\", now());\n      run_inline_js();\n    });\n  }\n}(window));"
     },
     "metadata": {},
     "output_type": "display_data"
    }
   ],
   "source": [
    "import ee\n",
    "import numpy as np\n",
    "import pandas as pd\n",
    "\n",
    "from earthshot import mon_stats\n",
    "from earthshot import water_viz as vis\n",
    "from earthshot import normalize as norm\n",
    "from earthshot import water_common as common\n",
    "from statistics import mean\n",
    "\n",
    "import geemap.eefolium as geemap\n",
    "import folium\n",
    "from folium import plugins\n",
    "\n",
    "import matplotlib.pyplot as plt\n",
    "%matplotlib inline"
   ]
  },
  {
   "cell_type": "code",
   "execution_count": 2,
   "id": "40a1c714",
   "metadata": {},
   "outputs": [],
   "source": [
    "ee.Initialize()"
   ]
  },
  {
   "cell_type": "code",
   "execution_count": 3,
   "id": "51fc8907",
   "metadata": {},
   "outputs": [
    {
     "name": "stdout",
     "output_type": "stream",
     "text": [
      "140\n"
     ]
    }
   ],
   "source": [
    "#Join beaver dam tables\n",
    "\n",
    "Data_Filter = ee.Filter.equals(leftField = 'system:index', rightField = 'system:index')\n",
    "innerJoin = ee.Join.inner()\n",
    "\n",
    "CA1_Point_Data = ee.FeatureCollection('users/amgadellaboudy/beaver_dam/CA1_Point_Data')\n",
    "CA1_Tab_Data = ee.FeatureCollection('users/amgadellaboudy/beaver_dam/CA1_creek_NDVI')\n",
    "CA1_Data = innerJoin.apply(CA1_Point_Data, CA1_Tab_Data, Data_Filter)\n",
    "\n",
    "CA2_Point_Data = ee.FeatureCollection('users/amgadellaboudy/beaver_dam/CA2_Point_Data')\n",
    "CA2_Tab_Data = ee.FeatureCollection('users/amgadellaboudy/beaver_dam/CA2_creek_NDVI')\n",
    "CA2_Data = innerJoin.apply(CA2_Point_Data, CA2_Tab_Data, Data_Filter)\n",
    "\n",
    "CO1_Point_Data = ee.FeatureCollection('users/amgadellaboudy/beaver_dam/CO1_Point_Data')\n",
    "CO1_Tab_Data = ee.FeatureCollection('users/amgadellaboudy/beaver_dam/CO1_creek_NDVI')\n",
    "CO1_Data = innerJoin.apply(CO1_Point_Data, CO1_Tab_Data, Data_Filter)\n",
    "\n",
    "CO2_Point_Data = ee.FeatureCollection('users/amgadellaboudy/beaver_dam/CO2_Point_Data')\n",
    "CO2_Tab_Data = ee.FeatureCollection('users/amgadellaboudy/beaver_dam/CO2_creek_NDVI')\n",
    "CO2_Data = innerJoin.apply(CO2_Point_Data, CO2_Tab_Data, Data_Filter)\n",
    "\n",
    "CO3_Point_Data = ee.FeatureCollection('users/amgadellaboudy/beaver_dam/CO3_Point_Data')\n",
    "CO3_Tab_Data = ee.FeatureCollection('users/amgadellaboudy/beaver_dam/CO3_creek_NDVI')\n",
    "CO3_Data = innerJoin.apply(CO3_Point_Data, CO3_Tab_Data, Data_Filter)\n",
    "\n",
    "CO4_Point_Data = ee.FeatureCollection('users/amgadellaboudy/beaver_dam/Beaver_Dam_CO4_Point_Data')\n",
    "CO4_Tab_Data = ee.FeatureCollection('users/amgadellaboudy/beaver_dam/CO4_tab_data')\n",
    "CO4_Data = innerJoin.apply(CO4_Point_Data, CO4_Tab_Data, Data_Filter)\n",
    "\n",
    "ID1_Point_Data = ee.FeatureCollection('users/amgadellaboudy/beaver_dam/ID1_Point_Data')\n",
    "ID1_Tab_Data = ee.FeatureCollection('users/amgadellaboudy/beaver_dam/ID1_creek_NDVI')\n",
    "ID1_Data = innerJoin.apply(ID1_Point_Data, ID1_Tab_Data, Data_Filter)\n",
    "\n",
    "ID2_Point_Data = ee.FeatureCollection('users/amgadellaboudy/beaver_dam/ID2_Point_Data')\n",
    "ID2_Tab_Data = ee.FeatureCollection('users/amgadellaboudy/beaver_dam/ID2_creek_NDVI')\n",
    "ID2_Data = innerJoin.apply(ID2_Point_Data, ID2_Tab_Data, Data_Filter)\n",
    "\n",
    "WY1_Point_Data = ee.FeatureCollection('users/amgadellaboudy/beaver_dam/WY1_Point_Data')\n",
    "WY1_Tab_Data = ee.FeatureCollection('users/amgadellaboudy/beaver_dam/WY1_creek_NDVI')\n",
    "WY1_Data = innerJoin.apply(WY1_Point_Data, WY1_Tab_Data, Data_Filter)\n",
    "\n",
    "WY2_Point_Data = ee.FeatureCollection('users/amgadellaboudy/beaver_dam/WY2_Point_Data')\n",
    "WY2_Tab_Data = ee.FeatureCollection('users/amgadellaboudy/beaver_dam/WY2_creek_NDVI')\n",
    "WY2_Data = innerJoin.apply(WY2_Point_Data, WY2_Tab_Data, Data_Filter)\n",
    "\n",
    "WY3_Point_Data = ee.FeatureCollection('users/amgadellaboudy/beaver_dam/WY3_Point_Data')\n",
    "WY3_Tab_Data = ee.FeatureCollection('users/amgadellaboudy/beaver_dam/WY3_creek_NDVI')\n",
    "WY3_Data = innerJoin.apply(WY3_Point_Data, WY3_Tab_Data, Data_Filter)\n",
    "\n",
    "Wyoming_Beaver_Data = ee.FeatureCollection('users/amgadellaboudy/Wyoming_BeaverDam_Lengths').map(lambda x: x.set('Presence/absence (of beaver - present = 0, abse)', 0))\n",
    "\n",
    "\n",
    "dam_data_points = (CA1_Data.merge(CA1_Data).merge(CA2_Data).merge(CO1_Data).merge(CO2_Data).merge(CO3_Data).merge(CO4_Data)\n",
    "            .merge(ID1_Data).merge(ID2_Data).merge(WY1_Data).merge(WY2_Data).merge(WY3_Data))\n",
    "\n",
    "def cleanJoin(feature):\n",
    "    new_feature = ee.Feature(feature.get('primary')).copyProperties(feature.get('secondary'))\n",
    "    return new_feature\n",
    "\n",
    "dam_data_clean = dam_data_points.map(cleanJoin)\n",
    "dam_data = dam_data_clean.merge(Wyoming_Beaver_Data)\n",
    "print(CA1_Data.size().getInfo())"
   ]
  },
  {
   "cell_type": "code",
   "execution_count": 4,
   "id": "ca310420",
   "metadata": {},
   "outputs": [],
   "source": [
    "eco_regions = ee.FeatureCollection('users/amgadellaboudy/Eco_Regions')\n",
    "\n",
    "spatialFilter = ee.Filter.intersects(leftField = '.geo', rightField = '.geo', maxError = 10)\n",
    "eco_dam_data = innerJoin.apply(dam_data, eco_regions, spatialFilter)\n",
    "eco_dam_data_clean = eco_dam_data.map(cleanJoin)\n",
    "dam_feat = eco_dam_data_clean.remap(lookupIn = ['16', '21', '5'], lookupOut = [0, 1, 2], columnName = 'US_L3CODE')"
   ]
  },
  {
   "cell_type": "code",
   "execution_count": 5,
   "id": "97331a2c",
   "metadata": {},
   "outputs": [],
   "source": [
    "#Import variables in (Slope, Porosity, Runoff, Soil Types, Annual Precipitation, water accumulation)\n",
    "slope_img = ee.Image('users/jamesmcc/merit_slope/merit_terrain_slope')\n",
    "#Scale = 90 m\n",
    "\n",
    "smap_usda_clim = ee.ImageCollection('users/jamesmcc/smap_usda_climatology')\n",
    "avail_porosity = (smap_usda_clim\n",
    "                  .filter(ee.Filter.eq('band', 'avail_porosity_mm')))\n",
    "avail_porosity_img = avail_porosity.sum()\n",
    "\n",
    "runoff_clim = ee.ImageCollection(\"ECMWF/ERA5_LAND/MONTHLY\").select('surface_runoff')\n",
    "runoff_clim_m = mon_stats.bands_avgs(['surface_runoff'], runoff_clim)\n",
    "runoff_img = ee.ImageCollection(runoff_clim_m['avgs'].get('surface_runoff')).sum().multiply(720)\n",
    "runoff_max = runoff_clim.max().multiply(720)\n",
    "\n",
    "precip_clim = ee.Image(\"OpenLandMap/CLM/CLM_PRECIPITATION_SM2RAIN_M/v01\")\n",
    "precip_img = precip_clim.reduce('sum')\n",
    "#https://developers.google.com/earth-engine/datasets/catalog/OpenLandMap_CLM_CLM_PRECIPITATION_SM2RAIN_M_v01#bands\n",
    "#Scale = 1 km\n",
    "\n",
    "soil_types = ee.Image(\"OpenLandMap/SOL/SOL_TEXTURE-CLASS_USDA-TT_M/v02\")\n",
    "\n",
    "top_soils = soil_types.expression('soil_0 + soil_10 + soil_30',\n",
    "                             {'soil_0': soil_types.select('b0'),\n",
    "                             'soil_10': soil_types.select('b10'),\n",
    "                             'soil_30': soil_types.select('b30')})\n",
    "\n",
    "water_img = ee.Image(\"MERIT/Hydro/v1_0_1\").select('viswth')\n",
    "#print(norm.img_range(water_img))\n",
    "#https://developers.google.com/earth-engine/datasets/catalog/MERIT_Hydro_v1_0_1#bands\n",
    "#Scale = 90 m\n",
    "\n",
    "Landsat_8 = ee.ImageCollection('LANDSAT/LC08/C01/T1_8DAY_NDVI').filterDate('2020-01-01', '2020-12-31').select('NDVI').mean()\n",
    "#2020 Landsat Data"
   ]
  },
  {
   "cell_type": "code",
   "execution_count": 6,
   "id": "a5190122",
   "metadata": {},
   "outputs": [
    {
     "name": "stdout",
     "output_type": "stream",
     "text": [
      "['slope', 'surface_runoff', 'sum', 'b0', 'viswth', 'NDVI']\n"
     ]
    }
   ],
   "source": [
    "training_img = slope_img.addBands(runoff_img).addBands(precip_img).addBands(top_soils).addBands(water_img).addBands(Landsat_8)\n",
    "print(training_img.bandNames().getInfo())"
   ]
  },
  {
   "cell_type": "code",
   "execution_count": 7,
   "id": "416e4a69",
   "metadata": {},
   "outputs": [
    {
     "name": "stdout",
     "output_type": "stream",
     "text": [
      "3920\n"
     ]
    }
   ],
   "source": [
    "training = training_img.sampleRegions(dam_feat, scale = 30, geometries = True)\n",
    "print(training.size().getInfo())"
   ]
  },
  {
   "cell_type": "code",
   "execution_count": 8,
   "id": "52f638d8",
   "metadata": {},
   "outputs": [],
   "source": [
    "target = 'NDVI'\n",
    "bands = ['slope', 'surface_runoff', 'sum', 'b0', 'viswth', 'US_L3CODE', 'Presence/absence (of beaver - present = 0, abse)']"
   ]
  },
  {
   "cell_type": "code",
   "execution_count": 9,
   "id": "a5503cd6",
   "metadata": {},
   "outputs": [],
   "source": [
    "#Test/ validation split, fit classifier for training data\n",
    "\n",
    "split = 0.7\n",
    "training = training.randomColumn()\n",
    "\n",
    "training_split = training.filter(ee.Filter.lt('random', split))\n",
    "validation_split = training.filter(ee.Filter.gte('random', split))\n",
    "\n",
    "classifier = ee.Classifier.smileGradientTreeBoost(500).setOutputMode('REGRESSION').train(features= training_split, classProperty= target, inputProperties = bands)"
   ]
  },
  {
   "cell_type": "code",
   "execution_count": 10,
   "id": "a331fa56",
   "metadata": {},
   "outputs": [],
   "source": [
    "#Create predicted MAR intervention image and validation data\n",
    "\n",
    "classified = training_split.classify(classifier)\n",
    "validated = validation_split.classify(classifier)"
   ]
  },
  {
   "cell_type": "code",
   "execution_count": null,
   "id": "1ef1a3e7",
   "metadata": {},
   "outputs": [],
   "source": []
  },
  {
   "cell_type": "code",
   "execution_count": 11,
   "id": "ef49421e",
   "metadata": {},
   "outputs": [
    {
     "name": "stdout",
     "output_type": "stream",
     "text": [
      "RMSE: 0.035827979132706946\n"
     ]
    }
   ],
   "source": [
    "#Training accuracy\n",
    "from sklearn import metrics\n",
    "\n",
    "selectors = ee.List(['NDVI', 'classification', 'Presence/absence (of beaver - present = 0, abse)'])\n",
    "validated_list = ee.List(validated.reduceColumns(reducer = ee.Reducer.toList().repeat(selectors.size()), selectors = selectors).get('list'))\n",
    "y_test = ee.List(validated_list.get(0)).getInfo()\n",
    "predictions = ee.List(validated_list.get(1)).getInfo()\n",
    "color = ee.List(validated_list.get(2)).getInfo()\n",
    "\n",
    "RMSE = np.sqrt(metrics.mean_squared_error(y_test, predictions))\n",
    "print('RMSE:', RMSE)"
   ]
  },
  {
   "cell_type": "code",
   "execution_count": 12,
   "id": "6e4f5a32",
   "metadata": {},
   "outputs": [
    {
     "name": "stdout",
     "output_type": "stream",
     "text": [
      "14.127004269022498\n"
     ]
    }
   ],
   "source": [
    "average_data = np.mean(y_test)\n",
    "percentage = (RMSE/average_data)*100\n",
    "print(percentage)"
   ]
  },
  {
   "cell_type": "code",
   "execution_count": 13,
   "id": "febaf6aa",
   "metadata": {},
   "outputs": [],
   "source": [
    "beaver_present = training.filter(ee.Filter.eq('Presence/absence (of beaver - present = 0, abse)', 0)).reduceColumns(reducer = ee.Reducer.mean(), selectors = ['NDVI'])\n",
    "beaver_absent = training.filter(ee.Filter.eq('Presence/absence (of beaver - present = 0, abse)', 1)).reduceColumns(reducer = ee.Reducer.mean(), selectors = ['NDVI'])"
   ]
  },
  {
   "cell_type": "code",
   "execution_count": 14,
   "id": "6fe1aae6",
   "metadata": {},
   "outputs": [
    {
     "name": "stdout",
     "output_type": "stream",
     "text": [
      "{'mean': 0.2575702825635493}\n"
     ]
    }
   ],
   "source": [
    "print(beaver_present.getInfo())"
   ]
  },
  {
   "cell_type": "code",
   "execution_count": 15,
   "id": "33613910",
   "metadata": {},
   "outputs": [
    {
     "name": "stdout",
     "output_type": "stream",
     "text": [
      "{'mean': 0.23722484944944167}\n"
     ]
    }
   ],
   "source": [
    "print(beaver_absent.getInfo())"
   ]
  },
  {
   "cell_type": "code",
   "execution_count": 16,
   "id": "f29d1bc3",
   "metadata": {},
   "outputs": [
    {
     "data": {
      "image/png": "[encoded data removed]",
      "text/plain": [
       "<Figure size 1152x576 with 1 Axes>"
      ]
     },
     "metadata": {
      "needs_background": "light"
     },
     "output_type": "display_data"
    }
   ],
   "source": [
    "\n",
    "\n",
    "fig, ax = plt.subplots()\n",
    "\n",
    "scatter = ax.scatter(y_test, predictions, c = color, cmap = 'jet')\n",
    "plot = ax.plot(y_test, y_test)\n",
    "legend1 = ax.legend(*scatter.legend_elements(), loc=\"upper left\", title=\"Beaver Dam\")\n",
    "ax.add_artist(legend1)\n",
    "\n",
    "plt.xlabel('Actual NDVI')\n",
    "plt.ylabel('Predicted NDVI')\n",
    "fig.set_figwidth(16)\n",
    "fig.set_figheight(8)\n",
    "\n",
    "plt.show()\n"
   ]
  },
  {
   "cell_type": "code",
   "execution_count": 19,
   "id": "81986b64",
   "metadata": {},
   "outputs": [],
   "source": [
    "Wyoming_Points = Wyoming_Beaver_Data.map(lambda y: y.centroid(maxError =1))"
   ]
  },
  {
   "cell_type": "code",
   "execution_count": null,
   "id": "ce38d665",
   "metadata": {},
   "outputs": [],
   "source": []
  },
  {
   "cell_type": "code",
   "execution_count": null,
   "id": "0aa524b4",
   "metadata": {},
   "outputs": [],
   "source": []
  },
  {
   "cell_type": "code",
   "execution_count": null,
   "id": "c1275af4",
   "metadata": {},
   "outputs": [],
   "source": []
  },
  {
   "cell_type": "code",
   "execution_count": null,
   "id": "07038893",
   "metadata": {},
   "outputs": [],
   "source": []
  },
  {
   "cell_type": "code",
   "execution_count": null,
   "id": "54feb12a",
   "metadata": {},
   "outputs": [],
   "source": []
  },
  {
   "cell_type": "code",
   "execution_count": null,
   "id": "54c85dc9",
   "metadata": {},
   "outputs": [],
   "source": []
  },
  {
   "cell_type": "code",
   "execution_count": null,
   "id": "fea09ffa",
   "metadata": {},
   "outputs": [],
   "source": []
  }
 ],
 "metadata": {
  "kernelspec": {
   "display_name": "Python 3",
   "language": "python",
   "name": "python3"
  },
  "language_info": {
   "codemirror_mode": {
    "name": "ipython",
    "version": 3
   },
   "file_extension": ".py",
   "mimetype": "text/x-python",
   "name": "python",
   "nbconvert_exporter": "python",
   "pygments_lexer": "ipython3",
   "version": "3.8.8"
  }
 },
 "nbformat": 4,
 "nbformat_minor": 5
}
