{
  "nbformat": 4,
  "nbformat_minor": 0,
  "metadata": {
    "kernelspec": {
      "display_name": "Python 3",
      "language": "python",
      "name": "python3"
    },
    "language_info": {
      "codemirror_mode": {
        "name": "ipython",
        "version": 3
      },
      "file_extension": ".py",
      "mimetype": "text/x-python",
      "name": "python",
      "nbconvert_exporter": "python",
      "pygments_lexer": "ipython3",
      "version": "3.8.3"
    },
    "colab": {
      "name": "usda_soil_type_available_water_capacity.ipynb",
      "provenance": [],
      "collapsed_sections": [],
      "include_colab_link": true
    }
  },
  "cells": [
    {
      "cell_type": "markdown",
      "metadata": {
        "id": "view-in-github",
        "colab_type": "text"
      },
      "source": [
        "<a href=\"https://colab.research.google.com/github/joshdaniel/water/blob/main/water/datasets/OpenLandMap_SoilType/usda_soil_type_available_water_capacity.ipynb\" target=\"_parent\"><img src=\"https://colab.research.google.com/assets/colab-badge.svg\" alt=\"Open In Colab\"/></a>"
      ]
    },
    {
      "cell_type": "markdown",
      "metadata": {
        "id": "ONO7LJ9pbeCK"
      },
      "source": [
        "## USDA Soil Type : Available Water Capacity\n",
        "\n",
        "Compute water holding capacity of soil at 6 depths just from soil type.\n",
        "Author: Josh Daniel\n"
      ]
    },
    {
      "cell_type": "code",
      "metadata": {
        "id": "FqiLoDgDdFTh",
        "colab": {
          "base_uri": "https://localhost:8080/",
          "height": 1000
        },
        "outputId": "409516b0-c889-4504-c351-705b3d9c75b7"
      },
      "source": [
        "# This may need to be run anytime there's a new runtime.\n",
        "!pip install earthshot"
      ],
      "execution_count": 4,
      "outputs": [
        {
          "output_type": "stream",
          "text": [
            "Collecting earthshot\n",
            "  Downloading https://files.pythonhosted.org/packages/a6/89/3f128c8eb0325294819a04967680202878e639c6a2b0673c4cd186ace645/earthshot-0.0.3-py3-none-any.whl\n",
            "Collecting pytest-html==2.1.1\n",
            "  Downloading https://files.pythonhosted.org/packages/00/a7/34f195c514d39b4453619b3eb284989e5adb09a2a68ac09ce3779f9b9478/pytest_html-2.1.1-py2.py3-none-any.whl\n",
            "Collecting pytest-lazy-fixture==0.6.3\n",
            "  Downloading https://files.pythonhosted.org/packages/2d/a1/2f2c1c2353350d66c4d110d283e422e4943eb5ad10effa9357ba66f7b5b9/pytest_lazy_fixture-0.6.3-py3-none-any.whl\n",
            "Collecting pytest-datadir-ng==1.1.1\n",
            "  Downloading https://files.pythonhosted.org/packages/c5/98/d4b1344e2f307d7707e5f113409442c2879657fb76880621697074176dce/pytest_datadir_ng-1.1.1-py2.py3-none-any.whl\n",
            "Collecting pandas==1.0.5\n",
            "\u001b[?25l  Downloading https://files.pythonhosted.org/packages/af/f3/683bf2547a3eaeec15b39cef86f61e921b3b187f250fcd2b5c5fb4386369/pandas-1.0.5-cp37-cp37m-manylinux1_x86_64.whl (10.1MB)\n",
            "\u001b[K     |████████████████████████████████| 10.1MB 4.1MB/s \n",
            "\u001b[?25hCollecting pytest==5.4.3\n",
            "\u001b[?25l  Downloading https://files.pythonhosted.org/packages/9f/f3/0a83558da436a081344aa6c8b85ea5b5f05071214106036ce341b7769b0b/pytest-5.4.3-py3-none-any.whl (248kB)\n",
            "\u001b[K     |████████████████████████████████| 256kB 34.0MB/s \n",
            "\u001b[?25hCollecting numpy==1.18.5\n",
            "\u001b[?25l  Downloading https://files.pythonhosted.org/packages/d6/c6/58e517e8b1fb192725cfa23c01c2e60e4e6699314ee9684a1c5f5c9b27e1/numpy-1.18.5-cp37-cp37m-manylinux1_x86_64.whl (20.1MB)\n",
            "\u001b[K     |████████████████████████████████| 20.1MB 1.2MB/s \n",
            "\u001b[?25hCollecting bokeh==2.2.3\n",
            "\u001b[?25l  Downloading https://files.pythonhosted.org/packages/88/20/f67d851da06f0f9358ae4e62296e76fefafaa1a5991f1c69496a83ee09ab/bokeh-2.2.3.tar.gz (8.8MB)\n",
            "\u001b[K     |████████████████████████████████| 8.9MB 29.3MB/s \n",
            "\u001b[?25hCollecting earthengine-api==0.1.243\n",
            "\u001b[?25l  Downloading https://files.pythonhosted.org/packages/80/4b/3cabf95e9fee98c61c1f375c76e0911ae6075617d9d78c141fad4715a2fe/earthengine-api-0.1.243.tar.gz (150kB)\n",
            "\u001b[K     |████████████████████████████████| 153kB 43.3MB/s \n",
            "\u001b[?25hCollecting folium>=0.11.0\n",
            "\u001b[?25l  Downloading https://files.pythonhosted.org/packages/c3/83/e8cb37afc2f016a1cf4caab8d22caf7fe4156c4c15230d8abc9c83547e0c/folium-0.12.1-py2.py3-none-any.whl (94kB)\n",
            "\u001b[K     |████████████████████████████████| 102kB 9.1MB/s \n",
            "\u001b[?25hRequirement already satisfied: scipy>=1.2.1 in /usr/local/lib/python3.7/dist-packages (from earthshot) (1.4.1)\n",
            "Collecting pytest-metadata\n",
            "  Downloading https://files.pythonhosted.org/packages/e5/12/bfb677aad996cc994efb9c61289a4994d60079587e85155738859fd3b68e/pytest_metadata-1.11.0-py2.py3-none-any.whl\n",
            "Requirement already satisfied: pytz>=2017.2 in /usr/local/lib/python3.7/dist-packages (from pandas==1.0.5->earthshot) (2018.9)\n",
            "Requirement already satisfied: python-dateutil>=2.6.1 in /usr/local/lib/python3.7/dist-packages (from pandas==1.0.5->earthshot) (2.8.1)\n",
            "Collecting pluggy<1.0,>=0.12\n",
            "  Downloading https://files.pythonhosted.org/packages/a0/28/85c7aa31b80d150b772fbe4a229487bc6644da9ccb7e427dd8cc60cb8a62/pluggy-0.13.1-py2.py3-none-any.whl\n",
            "Requirement already satisfied: attrs>=17.4.0 in /usr/local/lib/python3.7/dist-packages (from pytest==5.4.3->earthshot) (20.3.0)\n",
            "Requirement already satisfied: packaging in /usr/local/lib/python3.7/dist-packages (from pytest==5.4.3->earthshot) (20.9)\n",
            "Requirement already satisfied: py>=1.5.0 in /usr/local/lib/python3.7/dist-packages (from pytest==5.4.3->earthshot) (1.10.0)\n",
            "Requirement already satisfied: more-itertools>=4.0.0 in /usr/local/lib/python3.7/dist-packages (from pytest==5.4.3->earthshot) (8.7.0)\n",
            "Requirement already satisfied: wcwidth in /usr/local/lib/python3.7/dist-packages (from pytest==5.4.3->earthshot) (0.2.5)\n",
            "Requirement already satisfied: importlib-metadata>=0.12; python_version < \"3.8\" in /usr/local/lib/python3.7/dist-packages (from pytest==5.4.3->earthshot) (3.4.0)\n",
            "Requirement already satisfied: PyYAML>=3.10 in /usr/local/lib/python3.7/dist-packages (from bokeh==2.2.3->earthshot) (3.13)\n",
            "Requirement already satisfied: Jinja2>=2.7 in /usr/local/lib/python3.7/dist-packages (from bokeh==2.2.3->earthshot) (2.11.3)\n",
            "Collecting pillow>=7.1.0\n",
            "\u001b[?25l  Downloading https://files.pythonhosted.org/packages/eb/8e/d2f7a67cf8da9b83c1e3ee38dbf49448f3c8acb2cb38f76e4301f4a70223/Pillow-8.1.0-cp37-cp37m-manylinux1_x86_64.whl (2.2MB)\n",
            "\u001b[K     |████████████████████████████████| 2.2MB 44.7MB/s \n",
            "\u001b[?25hRequirement already satisfied: tornado>=5.1 in /usr/local/lib/python3.7/dist-packages (from bokeh==2.2.3->earthshot) (5.1.1)\n",
            "Requirement already satisfied: typing_extensions>=3.7.4 in /usr/local/lib/python3.7/dist-packages (from bokeh==2.2.3->earthshot) (3.7.4.3)\n",
            "Requirement already satisfied: future in /usr/local/lib/python3.7/dist-packages (from earthengine-api==0.1.243->earthshot) (0.16.0)\n",
            "Requirement already satisfied: google-cloud-storage in /usr/local/lib/python3.7/dist-packages (from earthengine-api==0.1.243->earthshot) (1.18.1)\n",
            "Collecting google-api-python-client>=1.12.1\n",
            "\u001b[?25l  Downloading https://files.pythonhosted.org/packages/83/fc/98045b8c5e0ba12929d423e9ff6b742951bb846707539b18f19b27c6ddc3/google_api_python_client-1.12.8-py2.py3-none-any.whl (61kB)\n",
            "\u001b[K     |████████████████████████████████| 71kB 7.8MB/s \n",
            "\u001b[?25hRequirement already satisfied: google-auth>=1.4.1 in /usr/local/lib/python3.7/dist-packages (from earthengine-api==0.1.243->earthshot) (1.27.0)\n",
            "Requirement already satisfied: google-auth-httplib2>=0.0.3 in /usr/local/lib/python3.7/dist-packages (from earthengine-api==0.1.243->earthshot) (0.0.4)\n",
            "Requirement already satisfied: httplib2<1dev,>=0.9.2 in /usr/local/lib/python3.7/dist-packages (from earthengine-api==0.1.243->earthshot) (0.17.4)\n",
            "Requirement already satisfied: httplib2shim in /usr/local/lib/python3.7/dist-packages (from earthengine-api==0.1.243->earthshot) (0.0.3)\n",
            "Requirement already satisfied: six in /usr/local/lib/python3.7/dist-packages (from earthengine-api==0.1.243->earthshot) (1.15.0)\n",
            "Requirement already satisfied: requests in /usr/local/lib/python3.7/dist-packages (from folium>=0.11.0->earthshot) (2.23.0)\n",
            "Requirement already satisfied: branca>=0.3.0 in /usr/local/lib/python3.7/dist-packages (from folium>=0.11.0->earthshot) (0.4.2)\n",
            "Requirement already satisfied: pyparsing>=2.0.2 in /usr/local/lib/python3.7/dist-packages (from packaging->pytest==5.4.3->earthshot) (2.4.7)\n",
            "Requirement already satisfied: zipp>=0.5 in /usr/local/lib/python3.7/dist-packages (from importlib-metadata>=0.12; python_version < \"3.8\"->pytest==5.4.3->earthshot) (3.4.0)\n",
            "Requirement already satisfied: MarkupSafe>=0.23 in /usr/local/lib/python3.7/dist-packages (from Jinja2>=2.7->bokeh==2.2.3->earthshot) (1.1.1)\n",
            "Requirement already satisfied: google-resumable-media<0.5.0dev,>=0.3.1 in /usr/local/lib/python3.7/dist-packages (from google-cloud-storage->earthengine-api==0.1.243->earthshot) (0.4.1)\n",
            "Requirement already satisfied: google-cloud-core<2.0dev,>=1.0.0 in /usr/local/lib/python3.7/dist-packages (from google-cloud-storage->earthengine-api==0.1.243->earthshot) (1.0.3)\n",
            "Requirement already satisfied: uritemplate<4dev,>=3.0.0 in /usr/local/lib/python3.7/dist-packages (from google-api-python-client>=1.12.1->earthengine-api==0.1.243->earthshot) (3.0.1)\n",
            "Collecting google-api-core<2dev,>=1.21.0\n",
            "\u001b[?25l  Downloading https://files.pythonhosted.org/packages/c8/3f/f7faa8a96408167c03d6fe07e2bee9b383ec18a7a1117d32912eb0c1b78f/google_api_core-1.26.0-py2.py3-none-any.whl (92kB)\n",
            "\u001b[K     |████████████████████████████████| 102kB 8.2MB/s \n",
            "\u001b[?25hRequirement already satisfied: rsa<5,>=3.1.4; python_version >= \"3.6\" in /usr/local/lib/python3.7/dist-packages (from google-auth>=1.4.1->earthengine-api==0.1.243->earthshot) (4.7.1)\n",
            "Requirement already satisfied: setuptools>=40.3.0 in /usr/local/lib/python3.7/dist-packages (from google-auth>=1.4.1->earthengine-api==0.1.243->earthshot) (53.0.0)\n",
            "Requirement already satisfied: cachetools<5.0,>=2.0.0 in /usr/local/lib/python3.7/dist-packages (from google-auth>=1.4.1->earthengine-api==0.1.243->earthshot) (4.2.1)\n",
            "Requirement already satisfied: pyasn1-modules>=0.2.1 in /usr/local/lib/python3.7/dist-packages (from google-auth>=1.4.1->earthengine-api==0.1.243->earthshot) (0.2.8)\n",
            "Requirement already satisfied: certifi in /usr/local/lib/python3.7/dist-packages (from httplib2shim->earthengine-api==0.1.243->earthshot) (2020.12.5)\n",
            "Requirement already satisfied: urllib3 in /usr/local/lib/python3.7/dist-packages (from httplib2shim->earthengine-api==0.1.243->earthshot) (1.24.3)\n",
            "Requirement already satisfied: idna<3,>=2.5 in /usr/local/lib/python3.7/dist-packages (from requests->folium>=0.11.0->earthshot) (2.10)\n",
            "Requirement already satisfied: chardet<4,>=3.0.2 in /usr/local/lib/python3.7/dist-packages (from requests->folium>=0.11.0->earthshot) (3.0.4)\n",
            "Requirement already satisfied: googleapis-common-protos<2.0dev,>=1.6.0 in /usr/local/lib/python3.7/dist-packages (from google-api-core<2dev,>=1.21.0->google-api-python-client>=1.12.1->earthengine-api==0.1.243->earthshot) (1.52.0)\n",
            "Requirement already satisfied: protobuf>=3.12.0 in /usr/local/lib/python3.7/dist-packages (from google-api-core<2dev,>=1.21.0->google-api-python-client>=1.12.1->earthengine-api==0.1.243->earthshot) (3.12.4)\n",
            "Requirement already satisfied: pyasn1>=0.1.3 in /usr/local/lib/python3.7/dist-packages (from rsa<5,>=3.1.4; python_version >= \"3.6\"->google-auth>=1.4.1->earthengine-api==0.1.243->earthshot) (0.4.8)\n",
            "Building wheels for collected packages: bokeh, earthengine-api\n",
            "  Building wheel for bokeh (setup.py) ... \u001b[?25l\u001b[?25hdone\n",
            "  Created wheel for bokeh: filename=bokeh-2.2.3-cp37-none-any.whl size=9296311 sha256=29f05c7e5169ce140c38d695f6005e6f0829598adac6b26d87332d017eddbac3\n",
            "  Stored in directory: /root/.cache/pip/wheels/dc/96/7b/9c9d48ed392511bc708e39580e18dc7a92f475795cd26b51bf\n",
            "  Building wheel for earthengine-api (setup.py) ... \u001b[?25l\u001b[?25hdone\n",
            "  Created wheel for earthengine-api: filename=earthengine_api-0.1.243-cp37-none-any.whl size=177524 sha256=0137013ff157c278389774523f8a5ef6b676f47593a03734a2674ce92cd5bd96\n",
            "  Stored in directory: /root/.cache/pip/wheels/42/5c/8d/2e172f7ff26266accf3f2157308340c527062799d9cb0f85d0\n",
            "Successfully built bokeh earthengine-api\n",
            "\u001b[31mERROR: tensorflow 2.4.1 has requirement numpy~=1.19.2, but you'll have numpy 1.18.5 which is incompatible.\u001b[0m\n",
            "\u001b[31mERROR: google-colab 1.0.0 has requirement pandas~=1.1.0; python_version >= \"3.0\", but you'll have pandas 1.0.5 which is incompatible.\u001b[0m\n",
            "\u001b[31mERROR: datascience 0.10.6 has requirement folium==0.2.1, but you'll have folium 0.12.1 which is incompatible.\u001b[0m\n",
            "\u001b[31mERROR: albumentations 0.1.12 has requirement imgaug<0.2.7,>=0.2.5, but you'll have imgaug 0.2.9 which is incompatible.\u001b[0m\n",
            "Installing collected packages: pluggy, pytest, pytest-metadata, pytest-html, pytest-lazy-fixture, pytest-datadir-ng, numpy, pandas, pillow, bokeh, google-api-core, google-api-python-client, earthengine-api, folium, earthshot\n",
            "  Found existing installation: pluggy 0.7.1\n",
            "    Uninstalling pluggy-0.7.1:\n",
            "      Successfully uninstalled pluggy-0.7.1\n",
            "  Found existing installation: pytest 3.6.4\n",
            "    Uninstalling pytest-3.6.4:\n",
            "      Successfully uninstalled pytest-3.6.4\n",
            "  Found existing installation: numpy 1.19.5\n",
            "    Uninstalling numpy-1.19.5:\n",
            "      Successfully uninstalled numpy-1.19.5\n",
            "  Found existing installation: pandas 1.1.5\n",
            "    Uninstalling pandas-1.1.5:\n",
            "      Successfully uninstalled pandas-1.1.5\n",
            "  Found existing installation: Pillow 7.0.0\n",
            "    Uninstalling Pillow-7.0.0:\n",
            "      Successfully uninstalled Pillow-7.0.0\n",
            "  Found existing installation: bokeh 2.1.1\n",
            "    Uninstalling bokeh-2.1.1:\n",
            "      Successfully uninstalled bokeh-2.1.1\n",
            "  Found existing installation: google-api-core 1.16.0\n",
            "    Uninstalling google-api-core-1.16.0:\n",
            "      Successfully uninstalled google-api-core-1.16.0\n",
            "  Found existing installation: google-api-python-client 1.7.12\n",
            "    Uninstalling google-api-python-client-1.7.12:\n",
            "      Successfully uninstalled google-api-python-client-1.7.12\n",
            "  Found existing installation: earthengine-api 0.1.238\n",
            "    Uninstalling earthengine-api-0.1.238:\n",
            "      Successfully uninstalled earthengine-api-0.1.238\n",
            "  Found existing installation: folium 0.8.3\n",
            "    Uninstalling folium-0.8.3:\n",
            "      Successfully uninstalled folium-0.8.3\n",
            "Successfully installed bokeh-2.2.3 earthengine-api-0.1.243 earthshot-0.0.3 folium-0.12.1 google-api-core-1.26.0 google-api-python-client-1.12.8 numpy-1.18.5 pandas-1.0.5 pillow-8.1.0 pluggy-0.13.1 pytest-5.4.3 pytest-datadir-ng-1.1.1 pytest-html-2.1.1 pytest-lazy-fixture-0.6.3 pytest-metadata-1.11.0\n"
          ],
          "name": "stdout"
        },
        {
          "output_type": "display_data",
          "data": {
            "application/vnd.colab-display-data+json": {
              "pip_warning": {
                "packages": [
                  "PIL",
                  "ee",
                  "google",
                  "googleapiclient",
                  "numpy",
                  "pandas"
                ]
              }
            }
          },
          "metadata": {
            "tags": []
          }
        }
      ]
    },
    {
      "cell_type": "code",
      "metadata": {
        "id": "d5u_q_4jbeCP"
      },
      "source": [
        "import ee\n",
        "\n",
        "from earthshot import mon_stats\n",
        "from earthshot import water_common\n",
        "from earthshot import water_viz as vis"
      ],
      "execution_count": 1,
      "outputs": []
    },
    {
      "cell_type": "code",
      "metadata": {
        "colab": {
          "base_uri": "https://localhost:8080/"
        },
        "id": "gVp4JYM5Kn5-",
        "outputId": "c01d2a52-714b-4d49-dfa7-4419b5217d49"
      },
      "source": [
        "ee.Authenticate()"
      ],
      "execution_count": 2,
      "outputs": [
        {
          "output_type": "stream",
          "text": [
            "To authorize access needed by Earth Engine, open the following URL in a web browser and follow the instructions. If the web browser does not start automatically, please manually browse the URL below.\n",
            "\n",
            "    https://accounts.google.com/o/oauth2/auth?client_id=517222506229-vsmmajv00ul0bs7p89v5m89qs8eb9359.apps.googleusercontent.com&scope=https%3A%2F%2Fwww.googleapis.com%2Fauth%2Fearthengine+https%3A%2F%2Fwww.googleapis.com%2Fauth%2Fdevstorage.full_control&redirect_uri=urn%3Aietf%3Awg%3Aoauth%3A2.0%3Aoob&response_type=code&code_challenge=yJmFRqcThj3-1hYtPRRxU5MaIdOtjwrolIA5RENV8RI&code_challenge_method=S256\n",
            "\n",
            "The authorization workflow will generate a code, which you should paste in the box below. \n",
            "Enter verification code: 4/1AY0e-g7i7uvDcZAin94ApMAL-mygRyYZNDfMDU3s5yoqLMhx95Ps0iCOYS0\n",
            "\n",
            "Successfully saved authorization token.\n"
          ],
          "name": "stdout"
        }
      ]
    },
    {
      "cell_type": "code",
      "metadata": {
        "id": "eP_qpCIJKiUc"
      },
      "source": [
        "ee.Initialize()"
      ],
      "execution_count": 3,
      "outputs": []
    },
    {
      "cell_type": "code",
      "metadata": {
        "id": "SuM7izqSHUlq"
      },
      "source": [
        "dataset = ee.Image(\"OpenLandMap/SOL/SOL_TEXTURE-CLASS_USDA-TT_M/v02\")"
      ],
      "execution_count": 4,
      "outputs": []
    },
    {
      "cell_type": "markdown",
      "metadata": {
        "id": "F-Ow-wScHeY-"
      },
      "source": [
        "```\n",
        "OpenLandMap Soil texture class (USDA system)\n",
        "Resolution: 250m\n",
        "\n",
        "Bands:\n",
        "b0 Soil texture class (USDA system) at 0 cm depth\n",
        "b10 Soil texture class (USDA system) at 10 cm depth\n",
        "b30 Soil texture class (USDA system) at 30 cm depth\n",
        "b60 Soil texture class (USDA system) at 60 cm depth\n",
        "b100 Soil texture class (USDA system) at 100 cm depth\n",
        "b200 #Soil texture class (USDA system) at 200 cm depth\n",
        "\n",
        "Values:\n",
        "Sa = Sand\n",
        "Si = Silt\n",
        "Cl = Clay\n",
        "Lo = Loam\n",
        "Value Color Description\n",
        "1 d5c36b Cl\n",
        "2 b96947 SiCl\n",
        "3 9d3706 SaCl\n",
        "4 ae868f ClLo\n",
        "5 f86714 SiClLo\n",
        "6 46d143 SaClLo\n",
        "7 368f20 Lo\n",
        "8 3e5a14 SiLo\n",
        "9 ffd557 SaLo\n",
        "10 fff72e Si\n",
        "11 ff5a9d LoSa\n",
        "12 ff005b Sa\n",
        "```"
      ]
    },
    {
      "cell_type": "markdown",
      "metadata": {
        "id": "YpG7awM9H0Ef"
      },
      "source": [
        "```\n",
        "Plant available water holding capacity by soil type.\n",
        "\n",
        "Available water is expressed as a volume fraction (0.20),\n",
        "as a percentage (20%), or as an amount (in inches). An\n",
        "example of a volume fraction is water in inches per inch\n",
        "of soil. If a soil has an available water fraction of 0.20, a\n",
        "10 inch zone then contains 2 inches of available water.\n",
        "\n",
        "see: https://www.nrcs.usda.gov/Internet/FSE_DOCUMENTS/nrcs142p2_051279.pdf\n",
        "Note: This code uses the middle of each range from that document.\n",
        "\n",
        "Here's another reference with similar numbers but different units:\n",
        "https://ucanr.edu/sites/UrbanHort/Water_Use_of_Turfgrass_and_Landscape_Plant_Materials/Soil_Water_Holding_Characteristics/\n",
        "```\n",
        "\n"
      ]
    },
    {
      "cell_type": "code",
      "metadata": {
        "id": "L-rocLYxILrm"
      },
      "source": [
        "water_holding_fraction_by_soil_type = {\n",
        "  1: 0.15, # Cl\n",
        "  2: 0.15, # SiCl\n",
        "  3: 0.125, # SaCl\n",
        "  4: 0.125, # ClLo\n",
        "  5: 0.2, # SiClLo\n",
        "  6: 0.125, # SaClLo\n",
        "  7: 0.125, # Lo\n",
        "  8: 0.2, # SiLo\n",
        "  9: 0.05, # SaLo\n",
        "  10: 0.2, # Si\n",
        "  11: 0.05, # LoSa\n",
        "  12: 0.05 # Sa\n",
        "}"
      ],
      "execution_count": 5,
      "outputs": []
    },
    {
      "cell_type": "markdown",
      "metadata": {
        "id": "r46yfX_YIdFm"
      },
      "source": [
        "```\n",
        "TODO: Move this to shared code library.\n",
        "\n",
        "This should generate a string suitable for ee.Image.expression() to map categorical data into\n",
        "numerical value data on a single Image.\n",
        "\n",
        "Inputs:\n",
        "band_name (str): name of the band in the Image.\n",
        "cat_val_dict (dict): a dictionary that maps from categories to numerical values.\n",
        "\n",
        "Outputs:\n",
        "An example expression string may look like the following.\n",
        "  '(b(\"b0\") == 1) ? 0.5 ' +\n",
        "  ': (b(\"b0\") == 2) ? 0.75 ' +\n",
        "  ': 0'\n",
        "```"
      ]
    },
    {
      "cell_type": "code",
      "metadata": {
        "id": "aEC8BxNcIjW_"
      },
      "source": [
        "def generate_category_to_value_expression(band_name, cat_val_dict):\n",
        "  ret = ''\n",
        "  for key, value in cat_val_dict.items():\n",
        "    ret += '(b(\"%s\") == %s) ? %s : ' % (band_name, key, value)\n",
        "  ret += '0'\n",
        "  return ret"
      ],
      "execution_count": 6,
      "outputs": []
    },
    {
      "cell_type": "code",
      "metadata": {
        "id": "nvatQ9cNJl_6"
      },
      "source": [
        "category_to_value_expression_b0 = generate_category_to_value_expression('b0', water_holding_fraction_by_soil_type)\n",
        "category_to_value_expression_b10 = generate_category_to_value_expression('b10', water_holding_fraction_by_soil_type)\n",
        "category_to_value_expression_b30 = generate_category_to_value_expression('b30', water_holding_fraction_by_soil_type)\n",
        "category_to_value_expression_b60 = generate_category_to_value_expression('b60', water_holding_fraction_by_soil_type)\n",
        "category_to_value_expression_b100 = generate_category_to_value_expression('b100', water_holding_fraction_by_soil_type)\n",
        "category_to_value_expression_b200 = generate_category_to_value_expression('b200', water_holding_fraction_by_soil_type)\n"
      ],
      "execution_count": 7,
      "outputs": []
    },
    {
      "cell_type": "code",
      "metadata": {
        "id": "W9eYgDWzKWwF"
      },
      "source": [
        "# Lookup estimated water holding capacity from soil type for each layer.\n",
        "plant_available_water_from_soil_type_b0 = dataset.expression(category_to_value_expression_b0)\n",
        "plant_available_water_from_soil_type_b10 = dataset.expression(category_to_value_expression_b10)\n",
        "plant_available_water_from_soil_type_b30 = dataset.expression(category_to_value_expression_b30)\n",
        "plant_available_water_from_soil_type_b60 = dataset.expression(category_to_value_expression_b60)\n",
        "plant_available_water_from_soil_type_b100 = dataset.expression(category_to_value_expression_b100)\n",
        "plant_available_water_from_soil_type_b200 = dataset.expression(category_to_value_expression_b200)\n"
      ],
      "execution_count": 8,
      "outputs": []
    },
    {
      "cell_type": "code",
      "metadata": {
        "id": "jnIwgA4UK5w-"
      },
      "source": [
        "visualization_pawc = {\n",
        "  'min': 0.0,\n",
        "  'max': 0.2,\n",
        "  'dimensions': 512,\n",
        "  'palette': [\n",
        "    \"black\", \"purple\"\n",
        "  ]\n",
        "}"
      ],
      "execution_count": 9,
      "outputs": []
    },
    {
      "cell_type": "code",
      "metadata": {
        "colab": {
          "base_uri": "https://localhost:8080/",
          "height": 277
        },
        "id": "fZMHbx34LPGQ",
        "outputId": "3512681f-1e8e-411e-b4ae-c7f552433e18"
      },
      "source": [
        "# Display a thumbnail\n",
        "display(vis.Image(url = plant_available_water_from_soil_type_b0.getThumbURL(visualization_pawc)))"
      ],
      "execution_count": 10,
      "outputs": [
        {
          "output_type": "display_data",
          "data": {
            "text/html": [
              "<img src=\"https://earthengine.googleapis.com/v1alpha/projects/earthengine-legacy/thumbnails/8952abb20ec19f0fcc9144327caad9b8-2630dfe1f9565402b015a1f5634f03dc:getPixels\"/>"
            ],
            "text/plain": [
              "<IPython.core.display.Image object>"
            ]
          },
          "metadata": {
            "tags": []
          }
        }
      ]
    },
    {
      "cell_type": "code",
      "metadata": {
        "colab": {
          "base_uri": "https://localhost:8080/",
          "height": 936
        },
        "id": "K9teHC8kMBRy",
        "outputId": "46fe7dda-377a-44e8-9adb-38a9a5a7987b"
      },
      "source": [
        "# Display all 6 layers\n",
        "the_map = vis.folium_map(location=[20, 0], zoom_start=3, height=500)\n",
        "the_map.add_ee_layer(plant_available_water_from_soil_type_b0, visualization_pawc, 'b0 plant available water by soil type')\n",
        "the_map.add_ee_layer(plant_available_water_from_soil_type_b10, visualization_pawc, 'b10 plant available water by soil type')\n",
        "the_map.add_ee_layer(plant_available_water_from_soil_type_b30, visualization_pawc, 'b30 plant available water by soil type')\n",
        "the_map.add_ee_layer(plant_available_water_from_soil_type_b60, visualization_pawc, 'b60 plant available water by soil type')\n",
        "the_map.add_ee_layer(plant_available_water_from_soil_type_b100, visualization_pawc, 'b100 plant available water by soil type')\n",
        "the_map.add_ee_layer(plant_available_water_from_soil_type_b200, visualization_pawc, 'b200 plant available water by soil type')\n",
        "vis.folium_display(the_map)"
      ],
      "execution_count": 11,
      "outputs": [
        {
          "output_type": "display_data",
          "data": {
            "text/html": [
              "<div style=\"width:100%;\"><div style=\"position:relative;width:100%;height:0;padding-bottom:60%;\"><span style=\"color:#565656\">Make this Notebook Trusted to load map: File -> Trust Notebook</span><iframe src=\"about:blank\" style=\"position:absolute;width:100%;height:100%;left:0;top:0;border:none !important;\" data-html=%3C%21DOCTYPE%20html%3E%0A%3Chead%3E%20%20%20%20%0A%20%20%20%20%3Cmeta%20http-equiv%3D%22content-type%22%20content%3D%22text/html%3B%20charset%3DUTF-8%22%20/%3E%0A%20%20%20%20%0A%20%20%20%20%20%20%20%20%3Cscript%3E%0A%20%20%20%20%20%20%20%20%20%20%20%20L_NO_TOUCH%20%3D%20false%3B%0A%20%20%20%20%20%20%20%20%20%20%20%20L_DISABLE_3D%20%3D%20false%3B%0A%20%20%20%20%20%20%20%20%3C/script%3E%0A%20%20%20%20%0A%20%20%20%20%3Cstyle%3Ehtml%2C%20body%20%7Bwidth%3A%20100%25%3Bheight%3A%20100%25%3Bmargin%3A%200%3Bpadding%3A%200%3B%7D%3C/style%3E%0A%20%20%20%20%3Cstyle%3E%23map%20%7Bposition%3Aabsolute%3Btop%3A0%3Bbottom%3A0%3Bright%3A0%3Bleft%3A0%3B%7D%3C/style%3E%0A%20%20%20%20%3Cscript%20src%3D%22https%3A//cdn.jsdelivr.net/npm/leaflet%401.6.0/dist/leaflet.js%22%3E%3C/script%3E%0A%20%20%20%20%3Cscript%20src%3D%22https%3A//code.jquery.com/jquery-1.12.4.min.js%22%3E%3C/script%3E%0A%20%20%20%20%3Cscript%20src%3D%22https%3A//maxcdn.bootstrapcdn.com/bootstrap/3.2.0/js/bootstrap.min.js%22%3E%3C/script%3E%0A%20%20%20%20%3Cscript%20src%3D%22https%3A//cdnjs.cloudflare.com/ajax/libs/Leaflet.awesome-markers/2.0.2/leaflet.awesome-markers.js%22%3E%3C/script%3E%0A%20%20%20%20%3Clink%20rel%3D%22stylesheet%22%20href%3D%22https%3A//cdn.jsdelivr.net/npm/leaflet%401.6.0/dist/leaflet.css%22/%3E%0A%20%20%20%20%3Clink%20rel%3D%22stylesheet%22%20href%3D%22https%3A//maxcdn.bootstrapcdn.com/bootstrap/3.2.0/css/bootstrap.min.css%22/%3E%0A%20%20%20%20%3Clink%20rel%3D%22stylesheet%22%20href%3D%22https%3A//maxcdn.bootstrapcdn.com/bootstrap/3.2.0/css/bootstrap-theme.min.css%22/%3E%0A%20%20%20%20%3Clink%20rel%3D%22stylesheet%22%20href%3D%22https%3A//maxcdn.bootstrapcdn.com/font-awesome/4.6.3/css/font-awesome.min.css%22/%3E%0A%20%20%20%20%3Clink%20rel%3D%22stylesheet%22%20href%3D%22https%3A//cdnjs.cloudflare.com/ajax/libs/Leaflet.awesome-markers/2.0.2/leaflet.awesome-markers.css%22/%3E%0A%20%20%20%20%3Clink%20rel%3D%22stylesheet%22%20href%3D%22https%3A//cdn.jsdelivr.net/gh/python-visualization/folium/folium/templates/leaflet.awesome.rotate.min.css%22/%3E%0A%20%20%20%20%0A%20%20%20%20%20%20%20%20%20%20%20%20%3Cmeta%20name%3D%22viewport%22%20content%3D%22width%3Ddevice-width%2C%0A%20%20%20%20%20%20%20%20%20%20%20%20%20%20%20%20initial-scale%3D1.0%2C%20maximum-scale%3D1.0%2C%20user-scalable%3Dno%22%20/%3E%0A%20%20%20%20%20%20%20%20%20%20%20%20%3Cstyle%3E%0A%20%20%20%20%20%20%20%20%20%20%20%20%20%20%20%20%23map_6bb78e41af1b48d386a8780c422cd1bc%20%7B%0A%20%20%20%20%20%20%20%20%20%20%20%20%20%20%20%20%20%20%20%20position%3A%20relative%3B%0A%20%20%20%20%20%20%20%20%20%20%20%20%20%20%20%20%20%20%20%20width%3A%20100.0%25%3B%0A%20%20%20%20%20%20%20%20%20%20%20%20%20%20%20%20%20%20%20%20height%3A%20500.0px%3B%0A%20%20%20%20%20%20%20%20%20%20%20%20%20%20%20%20%20%20%20%20left%3A%200.0%25%3B%0A%20%20%20%20%20%20%20%20%20%20%20%20%20%20%20%20%20%20%20%20top%3A%200.0%25%3B%0A%20%20%20%20%20%20%20%20%20%20%20%20%20%20%20%20%7D%0A%20%20%20%20%20%20%20%20%20%20%20%20%3C/style%3E%0A%20%20%20%20%20%20%20%20%0A%3C/head%3E%0A%3Cbody%3E%20%20%20%20%0A%20%20%20%20%0A%20%20%20%20%20%20%20%20%20%20%20%20%3Cdiv%20class%3D%22folium-map%22%20id%3D%22map_6bb78e41af1b48d386a8780c422cd1bc%22%20%3E%3C/div%3E%0A%20%20%20%20%20%20%20%20%0A%3C/body%3E%0A%3Cscript%3E%20%20%20%20%0A%20%20%20%20%0A%20%20%20%20%20%20%20%20%20%20%20%20var%20map_6bb78e41af1b48d386a8780c422cd1bc%20%3D%20L.map%28%0A%20%20%20%20%20%20%20%20%20%20%20%20%20%20%20%20%22map_6bb78e41af1b48d386a8780c422cd1bc%22%2C%0A%20%20%20%20%20%20%20%20%20%20%20%20%20%20%20%20%7B%0A%20%20%20%20%20%20%20%20%20%20%20%20%20%20%20%20%20%20%20%20center%3A%20%5B20.0%2C%200.0%5D%2C%0A%20%20%20%20%20%20%20%20%20%20%20%20%20%20%20%20%20%20%20%20crs%3A%20L.CRS.EPSG3857%2C%0A%20%20%20%20%20%20%20%20%20%20%20%20%20%20%20%20%20%20%20%20zoom%3A%203%2C%0A%20%20%20%20%20%20%20%20%20%20%20%20%20%20%20%20%20%20%20%20zoomControl%3A%20true%2C%0A%20%20%20%20%20%20%20%20%20%20%20%20%20%20%20%20%20%20%20%20preferCanvas%3A%20false%2C%0A%20%20%20%20%20%20%20%20%20%20%20%20%20%20%20%20%7D%0A%20%20%20%20%20%20%20%20%20%20%20%20%29%3B%0A%0A%20%20%20%20%20%20%20%20%20%20%20%20%0A%0A%20%20%20%20%20%20%20%20%0A%20%20%20%20%0A%20%20%20%20%20%20%20%20%20%20%20%20var%20tile_layer_6509865b589042fe87f80b36409e7147%20%3D%20L.tileLayer%28%0A%20%20%20%20%20%20%20%20%20%20%20%20%20%20%20%20%22https%3A//%7Bs%7D.tile.openstreetmap.org/%7Bz%7D/%7Bx%7D/%7By%7D.png%22%2C%0A%20%20%20%20%20%20%20%20%20%20%20%20%20%20%20%20%7B%22attribution%22%3A%20%22Data%20by%20%5Cu0026copy%3B%20%5Cu003ca%20href%3D%5C%22http%3A//openstreetmap.org%5C%22%5Cu003eOpenStreetMap%5Cu003c/a%5Cu003e%2C%20under%20%5Cu003ca%20href%3D%5C%22http%3A//www.openstreetmap.org/copyright%5C%22%5Cu003eODbL%5Cu003c/a%5Cu003e.%22%2C%20%22detectRetina%22%3A%20false%2C%20%22maxNativeZoom%22%3A%2018%2C%20%22maxZoom%22%3A%2018%2C%20%22minZoom%22%3A%200%2C%20%22noWrap%22%3A%20false%2C%20%22opacity%22%3A%201%2C%20%22subdomains%22%3A%20%22abc%22%2C%20%22tms%22%3A%20false%7D%0A%20%20%20%20%20%20%20%20%20%20%20%20%29.addTo%28map_6bb78e41af1b48d386a8780c422cd1bc%29%3B%0A%20%20%20%20%20%20%20%20%0A%20%20%20%20%0A%20%20%20%20%20%20%20%20%20%20%20%20var%20tile_layer_464a27519f57413ca35dc80c56d3f20b%20%3D%20L.tileLayer%28%0A%20%20%20%20%20%20%20%20%20%20%20%20%20%20%20%20%22https%3A//earthengine.googleapis.com/v1alpha/projects/earthengine-legacy/maps/1fc8a4458208078e813ff3eb9b29fb1f-ec4117cbbbbebb2df28123874ed65d37/tiles/%7Bz%7D/%7Bx%7D/%7By%7D%22%2C%0A%20%20%20%20%20%20%20%20%20%20%20%20%20%20%20%20%7B%22attribution%22%3A%20%22Map%20Data%20%5Cu0026copy%3B%20%5Cu003ca%20href%3D%5C%22https%3A//earthengine.google.com/%5C%22%5Cu003eGoogle%20Earth%20Engine%5Cu003c/a%5Cu003e%22%2C%20%22detectRetina%22%3A%20false%2C%20%22maxNativeZoom%22%3A%2018%2C%20%22maxZoom%22%3A%2018%2C%20%22minZoom%22%3A%200%2C%20%22noWrap%22%3A%20false%2C%20%22opacity%22%3A%201%2C%20%22subdomains%22%3A%20%22abc%22%2C%20%22tms%22%3A%20false%7D%0A%20%20%20%20%20%20%20%20%20%20%20%20%29.addTo%28map_6bb78e41af1b48d386a8780c422cd1bc%29%3B%0A%20%20%20%20%20%20%20%20%0A%20%20%20%20%0A%20%20%20%20%20%20%20%20%20%20%20%20var%20tile_layer_ab8a37633007416b9cf33d71ee3fcb2d%20%3D%20L.tileLayer%28%0A%20%20%20%20%20%20%20%20%20%20%20%20%20%20%20%20%22https%3A//earthengine.googleapis.com/v1alpha/projects/earthengine-legacy/maps/88494cb8a53612ed2f3ce1680ed1d286-a042eb9d7a8a5f93e00bc6ce8c821716/tiles/%7Bz%7D/%7Bx%7D/%7By%7D%22%2C%0A%20%20%20%20%20%20%20%20%20%20%20%20%20%20%20%20%7B%22attribution%22%3A%20%22Map%20Data%20%5Cu0026copy%3B%20%5Cu003ca%20href%3D%5C%22https%3A//earthengine.google.com/%5C%22%5Cu003eGoogle%20Earth%20Engine%5Cu003c/a%5Cu003e%22%2C%20%22detectRetina%22%3A%20false%2C%20%22maxNativeZoom%22%3A%2018%2C%20%22maxZoom%22%3A%2018%2C%20%22minZoom%22%3A%200%2C%20%22noWrap%22%3A%20false%2C%20%22opacity%22%3A%201%2C%20%22subdomains%22%3A%20%22abc%22%2C%20%22tms%22%3A%20false%7D%0A%20%20%20%20%20%20%20%20%20%20%20%20%29.addTo%28map_6bb78e41af1b48d386a8780c422cd1bc%29%3B%0A%20%20%20%20%20%20%20%20%0A%20%20%20%20%0A%20%20%20%20%20%20%20%20%20%20%20%20var%20tile_layer_3bec49b015f04cf787be210349b98e2f%20%3D%20L.tileLayer%28%0A%20%20%20%20%20%20%20%20%20%20%20%20%20%20%20%20%22https%3A//earthengine.googleapis.com/v1alpha/projects/earthengine-legacy/maps/9d4a7722f3d10cefb843415d0a8a00b4-5c068314edd017ed431cb20b6d38a5cb/tiles/%7Bz%7D/%7Bx%7D/%7By%7D%22%2C%0A%20%20%20%20%20%20%20%20%20%20%20%20%20%20%20%20%7B%22attribution%22%3A%20%22Map%20Data%20%5Cu0026copy%3B%20%5Cu003ca%20href%3D%5C%22https%3A//earthengine.google.com/%5C%22%5Cu003eGoogle%20Earth%20Engine%5Cu003c/a%5Cu003e%22%2C%20%22detectRetina%22%3A%20false%2C%20%22maxNativeZoom%22%3A%2018%2C%20%22maxZoom%22%3A%2018%2C%20%22minZoom%22%3A%200%2C%20%22noWrap%22%3A%20false%2C%20%22opacity%22%3A%201%2C%20%22subdomains%22%3A%20%22abc%22%2C%20%22tms%22%3A%20false%7D%0A%20%20%20%20%20%20%20%20%20%20%20%20%29.addTo%28map_6bb78e41af1b48d386a8780c422cd1bc%29%3B%0A%20%20%20%20%20%20%20%20%0A%20%20%20%20%0A%20%20%20%20%20%20%20%20%20%20%20%20var%20tile_layer_ba409f5fe66941a5826675d532061295%20%3D%20L.tileLayer%28%0A%20%20%20%20%20%20%20%20%20%20%20%20%20%20%20%20%22https%3A//earthengine.googleapis.com/v1alpha/projects/earthengine-legacy/maps/1b3bbb9cb8979daf6085d24e34a37943-2f16b1d4a7c75c9365c787e99c3a8a06/tiles/%7Bz%7D/%7Bx%7D/%7By%7D%22%2C%0A%20%20%20%20%20%20%20%20%20%20%20%20%20%20%20%20%7B%22attribution%22%3A%20%22Map%20Data%20%5Cu0026copy%3B%20%5Cu003ca%20href%3D%5C%22https%3A//earthengine.google.com/%5C%22%5Cu003eGoogle%20Earth%20Engine%5Cu003c/a%5Cu003e%22%2C%20%22detectRetina%22%3A%20false%2C%20%22maxNativeZoom%22%3A%2018%2C%20%22maxZoom%22%3A%2018%2C%20%22minZoom%22%3A%200%2C%20%22noWrap%22%3A%20false%2C%20%22opacity%22%3A%201%2C%20%22subdomains%22%3A%20%22abc%22%2C%20%22tms%22%3A%20false%7D%0A%20%20%20%20%20%20%20%20%20%20%20%20%29.addTo%28map_6bb78e41af1b48d386a8780c422cd1bc%29%3B%0A%20%20%20%20%20%20%20%20%0A%20%20%20%20%0A%20%20%20%20%20%20%20%20%20%20%20%20var%20tile_layer_a0aff15b9f894db7acf6ea676217ae9d%20%3D%20L.tileLayer%28%0A%20%20%20%20%20%20%20%20%20%20%20%20%20%20%20%20%22https%3A//earthengine.googleapis.com/v1alpha/projects/earthengine-legacy/maps/95b6005758c358ddbfa60272c78a7983-2fdb4d601baf20faf3d92d8557c89c1d/tiles/%7Bz%7D/%7Bx%7D/%7By%7D%22%2C%0A%20%20%20%20%20%20%20%20%20%20%20%20%20%20%20%20%7B%22attribution%22%3A%20%22Map%20Data%20%5Cu0026copy%3B%20%5Cu003ca%20href%3D%5C%22https%3A//earthengine.google.com/%5C%22%5Cu003eGoogle%20Earth%20Engine%5Cu003c/a%5Cu003e%22%2C%20%22detectRetina%22%3A%20false%2C%20%22maxNativeZoom%22%3A%2018%2C%20%22maxZoom%22%3A%2018%2C%20%22minZoom%22%3A%200%2C%20%22noWrap%22%3A%20false%2C%20%22opacity%22%3A%201%2C%20%22subdomains%22%3A%20%22abc%22%2C%20%22tms%22%3A%20false%7D%0A%20%20%20%20%20%20%20%20%20%20%20%20%29.addTo%28map_6bb78e41af1b48d386a8780c422cd1bc%29%3B%0A%20%20%20%20%20%20%20%20%0A%20%20%20%20%0A%20%20%20%20%20%20%20%20%20%20%20%20var%20tile_layer_d8e6cd5317b7428bb1ceb8cb94096f0c%20%3D%20L.tileLayer%28%0A%20%20%20%20%20%20%20%20%20%20%20%20%20%20%20%20%22https%3A//earthengine.googleapis.com/v1alpha/projects/earthengine-legacy/maps/1b85af5632f4e4c6499acc187f138073-66cdb9626a1e076002964c2e72496834/tiles/%7Bz%7D/%7Bx%7D/%7By%7D%22%2C%0A%20%20%20%20%20%20%20%20%20%20%20%20%20%20%20%20%7B%22attribution%22%3A%20%22Map%20Data%20%5Cu0026copy%3B%20%5Cu003ca%20href%3D%5C%22https%3A//earthengine.google.com/%5C%22%5Cu003eGoogle%20Earth%20Engine%5Cu003c/a%5Cu003e%22%2C%20%22detectRetina%22%3A%20false%2C%20%22maxNativeZoom%22%3A%2018%2C%20%22maxZoom%22%3A%2018%2C%20%22minZoom%22%3A%200%2C%20%22noWrap%22%3A%20false%2C%20%22opacity%22%3A%201%2C%20%22subdomains%22%3A%20%22abc%22%2C%20%22tms%22%3A%20false%7D%0A%20%20%20%20%20%20%20%20%20%20%20%20%29.addTo%28map_6bb78e41af1b48d386a8780c422cd1bc%29%3B%0A%20%20%20%20%20%20%20%20%0A%20%20%20%20%0A%20%20%20%20%20%20%20%20%20%20%20%20var%20layer_control_15e4eaed92764d0aa6c038d91dcba772%20%3D%20%7B%0A%20%20%20%20%20%20%20%20%20%20%20%20%20%20%20%20base_layers%20%3A%20%7B%0A%20%20%20%20%20%20%20%20%20%20%20%20%20%20%20%20%20%20%20%20%22openstreetmap%22%20%3A%20tile_layer_6509865b589042fe87f80b36409e7147%2C%0A%20%20%20%20%20%20%20%20%20%20%20%20%20%20%20%20%7D%2C%0A%20%20%20%20%20%20%20%20%20%20%20%20%20%20%20%20overlays%20%3A%20%20%7B%0A%20%20%20%20%20%20%20%20%20%20%20%20%20%20%20%20%20%20%20%20%22b0%20plant%20available%20water%20by%20soil%20type%22%20%3A%20tile_layer_464a27519f57413ca35dc80c56d3f20b%2C%0A%20%20%20%20%20%20%20%20%20%20%20%20%20%20%20%20%20%20%20%20%22b10%20plant%20available%20water%20by%20soil%20type%22%20%3A%20tile_layer_ab8a37633007416b9cf33d71ee3fcb2d%2C%0A%20%20%20%20%20%20%20%20%20%20%20%20%20%20%20%20%20%20%20%20%22b30%20plant%20available%20water%20by%20soil%20type%22%20%3A%20tile_layer_3bec49b015f04cf787be210349b98e2f%2C%0A%20%20%20%20%20%20%20%20%20%20%20%20%20%20%20%20%20%20%20%20%22b60%20plant%20available%20water%20by%20soil%20type%22%20%3A%20tile_layer_ba409f5fe66941a5826675d532061295%2C%0A%20%20%20%20%20%20%20%20%20%20%20%20%20%20%20%20%20%20%20%20%22b100%20plant%20available%20water%20by%20soil%20type%22%20%3A%20tile_layer_a0aff15b9f894db7acf6ea676217ae9d%2C%0A%20%20%20%20%20%20%20%20%20%20%20%20%20%20%20%20%20%20%20%20%22b200%20plant%20available%20water%20by%20soil%20type%22%20%3A%20tile_layer_d8e6cd5317b7428bb1ceb8cb94096f0c%2C%0A%20%20%20%20%20%20%20%20%20%20%20%20%20%20%20%20%7D%2C%0A%20%20%20%20%20%20%20%20%20%20%20%20%7D%3B%0A%20%20%20%20%20%20%20%20%20%20%20%20L.control.layers%28%0A%20%20%20%20%20%20%20%20%20%20%20%20%20%20%20%20layer_control_15e4eaed92764d0aa6c038d91dcba772.base_layers%2C%0A%20%20%20%20%20%20%20%20%20%20%20%20%20%20%20%20layer_control_15e4eaed92764d0aa6c038d91dcba772.overlays%2C%0A%20%20%20%20%20%20%20%20%20%20%20%20%20%20%20%20%7B%22autoZIndex%22%3A%20true%2C%20%22collapsed%22%3A%20true%2C%20%22position%22%3A%20%22topright%22%7D%0A%20%20%20%20%20%20%20%20%20%20%20%20%29.addTo%28map_6bb78e41af1b48d386a8780c422cd1bc%29%3B%0A%20%20%20%20%20%20%20%20%0A%3C/script%3E onload=\"this.contentDocument.open();this.contentDocument.write(    decodeURIComponent(this.getAttribute('data-html')));this.contentDocument.close();\" allowfullscreen webkitallowfullscreen mozallowfullscreen></iframe></div></div>"
            ],
            "text/plain": [
              "<folium.folium.Map at 0x7f415fbbb8d0>"
            ]
          },
          "metadata": {
            "tags": []
          }
        }
      ]
    },
    {
      "cell_type": "code",
      "metadata": {
        "id": "CGbxQk7PIKuW"
      },
      "source": [
        ""
      ],
      "execution_count": null,
      "outputs": []
    },
    {
      "cell_type": "markdown",
      "metadata": {
        "id": "dQGJxbE3beCQ"
      },
      "source": [
        "## Export the USDA soil type "
      ]
    },
    {
      "cell_type": "code",
      "metadata": {
        "colab": {
          "base_uri": "https://localhost:8080/"
        },
        "id": "KxNV7Pder4es",
        "outputId": "dfd89261-6df7-4e1e-9541-ded9ca0ba5c7"
      },
      "source": [
        "bbox_dict = water_common.bboxes()\n",
        "bbox_name = 'world'\n",
        "bbox = bbox_dict[bbox_name]\n",
        "collection_name = 'users/joshdanielearthengine/usda_soil_type'\n",
        "asset_base_name = 'usda_soil_type_available_water_capacity_'\n",
        "variables = [(plant_available_water_from_soil_type_b0, 'b0'),\n",
        "             (plant_available_water_from_soil_type_b10, 'b10'),\n",
        "             (plant_available_water_from_soil_type_b30, 'b30'),\n",
        "             (plant_available_water_from_soil_type_b60, 'b60'),\n",
        "             (plant_available_water_from_soil_type_b100, 'b100'),\n",
        "             (plant_available_water_from_soil_type_b200, 'b200')]\n",
        "max_pixels = 100000000000  #For global is quite large\n",
        "\n",
        "for image, band_name in variables:\n",
        "  description = 'soil_type_plant_available_water_capacity_{}'.format(band_name)\n",
        "  print (description)\n",
        "  assetId = '{}/{}'.format(collection_name, description)\n",
        "  print (assetId)\n",
        "\n",
        "  xx = ee.batch.Export.image.toAsset(\n",
        "      image,\n",
        "      description=description, \n",
        "      assetId=assetId,\n",
        "      region=bbox,\n",
        "      maxPixels=max_pixels).start()"
      ],
      "execution_count": 25,
      "outputs": [
        {
          "output_type": "stream",
          "text": [
            "soil_type_plant_available_water_capacity_b0\n",
            "users/joshdanielearthengine/usda_soil_type/soil_type_plant_available_water_capacity_b0\n",
            "soil_type_plant_available_water_capacity_b10\n",
            "users/joshdanielearthengine/usda_soil_type/soil_type_plant_available_water_capacity_b10\n",
            "soil_type_plant_available_water_capacity_b30\n",
            "users/joshdanielearthengine/usda_soil_type/soil_type_plant_available_water_capacity_b30\n",
            "soil_type_plant_available_water_capacity_b60\n",
            "users/joshdanielearthengine/usda_soil_type/soil_type_plant_available_water_capacity_b60\n",
            "soil_type_plant_available_water_capacity_b100\n",
            "users/joshdanielearthengine/usda_soil_type/soil_type_plant_available_water_capacity_b100\n",
            "soil_type_plant_available_water_capacity_b200\n",
            "users/joshdanielearthengine/usda_soil_type/soil_type_plant_available_water_capacity_b200\n"
          ],
          "name": "stdout"
        }
      ]
    },
    {
      "cell_type": "code",
      "metadata": {
        "id": "Cw78MH3IbeCR"
      },
      "source": [
        ""
      ],
      "execution_count": null,
      "outputs": []
    }
  ]
}